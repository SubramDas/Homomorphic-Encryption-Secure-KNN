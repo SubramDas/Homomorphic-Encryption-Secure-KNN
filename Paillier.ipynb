{
  "nbformat": 4,
  "nbformat_minor": 0,
  "metadata": {
    "colab": {
      "provenance": [],
      "authorship_tag": "ABX9TyOAnLbaDqOvW2EZZn0xutcc",
      "include_colab_link": true
    },
    "kernelspec": {
      "name": "python3",
      "display_name": "Python 3"
    },
    "language_info": {
      "name": "python"
    }
  },
  "cells": [
    {
      "cell_type": "markdown",
      "metadata": {
        "id": "view-in-github",
        "colab_type": "text"
      },
      "source": [
        "<a href=\"https://colab.research.google.com/github/SubramDas/Homomorphic-Encryption-Secure-KNN/blob/main/Paillier.ipynb\" target=\"_parent\"><img src=\"https://colab.research.google.com/assets/colab-badge.svg\" alt=\"Open In Colab\"/></a>"
      ]
    },
    {
      "cell_type": "code",
      "execution_count": null,
      "metadata": {
        "colab": {
          "base_uri": "https://localhost:8080/"
        },
        "id": "ZT5fQ2h9Xpix",
        "outputId": "4f2b4b38-4643-453d-e361-8a1241bb6ca6"
      },
      "outputs": [
        {
          "output_type": "stream",
          "name": "stdout",
          "text": [
            "Requirement already satisfied: phe in /usr/local/lib/python3.10/dist-packages (1.5.0)\n"
          ]
        }
      ],
      "source": [
        "!pip install phe\n",
        "import numpy as np\n",
        "import time\n",
        "\n",
        "total_encription_time = 0"
      ]
    },
    {
      "cell_type": "code",
      "source": [
        "columns = 10\n",
        "rows = 100000\n",
        "\n",
        "D = np.random.uniform(low=1, high=100, size=(rows, columns))\n",
        "D = np.round(D, 1)\n",
        "\n",
        "q = np.random.uniform(low = 1, high = 100, size=columns)\n",
        "q = np.round(q, 1)"
      ],
      "metadata": {
        "id": "JHLOsMmYN_VC"
      },
      "execution_count": null,
      "outputs": []
    },
    {
      "cell_type": "code",
      "source": [],
      "metadata": {
        "id": "hyBQqW_o5D1x"
      },
      "execution_count": null,
      "outputs": []
    },
    {
      "cell_type": "code",
      "source": [
        "#Key Generation\n",
        "\n",
        "def generate_key(d, c, epsilon):\n",
        "\n",
        "  #computing eta\n",
        "  eta = d + c + epsilon + 1\n",
        "\n",
        "  # Generate an base secret matrix Mbase of eta, eta\n",
        "  M = np.random.uniform(low=1, high=100, size=(eta, eta))\n",
        "  M = np.round(M, 0)\n",
        "\n",
        "  # M_inv = np.linalg.inv(M)\n",
        "\n",
        "  # Generate a (d + 1) dimensional long term secret vector S\n",
        "  S = np.random.uniform(low=1, high=100, size=(d + 1))\n",
        "  S = np.round(S, 0)\n",
        "\n",
        "  # S = [12, 5, 30]\n",
        "\n",
        "  # Generate a c-dimensional vector (τ/w)\n",
        "  tau = np.random.uniform(low=1, high=100, size=c)\n",
        "  tau = np.round(tau, 0)\n",
        "  # tau = [21]\n",
        "\n",
        "  # Generate a permutation function π of η numbers\n",
        "  pi = np.random.permutation(eta)\n",
        "  pi = np.round(pi, 0)\n",
        "  # pi = [3, 1, 4, 5, 2]\n",
        "\n",
        "  # Create key\n",
        "\n",
        "  key = {\n",
        "      'S': S,\n",
        "      'tau': tau,\n",
        "      'pi': pi,\n",
        "      'M': M\n",
        "  }\n",
        "\n",
        "  return key\n"
      ],
      "metadata": {
        "id": "agrPwD-KZvxp"
      },
      "execution_count": null,
      "outputs": []
    },
    {
      "cell_type": "code",
      "source": [
        "# Taking parameters\n",
        "\n",
        "d = len(D[0])\n",
        "c = 5\n",
        "epsilon = 5\n",
        "\n",
        "key = generate_key(d, c, epsilon)\n",
        "\n",
        "# print(key)"
      ],
      "metadata": {
        "id": "ydEGV1K2bU1Y"
      },
      "execution_count": null,
      "outputs": []
    },
    {
      "cell_type": "code",
      "source": [
        "# D = the private database of DO consisting of m points\n",
        "# D = {p1, p2, ... pm} where p1 = {pi1, pi2,... pid}\n",
        "# ||pi|| = euclidean norm\n",
        "\n",
        "# D = {p1, p2}\n",
        "\n",
        "# tic = time.time()\n",
        "\n",
        "# p1 = [10, 2.7, 5.3]\n",
        "# p2 = [5.3, 8.6, 2.5]\n",
        "# p3 = [1.3, 5.6, 8.5]\n",
        "# q = [2.5, 3.1, 1.6]\n",
        "\n",
        "\n",
        "# database D of n vectors with d dimensions ( n=1, d=2)\n",
        "# (Data Owner DO )\n",
        "# D = [p1, p2, p3]\n",
        "\n",
        "# D = np.random.uniform(low = 1, high = 10, size=(2,2))\n",
        "\n",
        "num_rows = len(D)\n",
        "\n",
        "random_vectors=[]\n",
        "\n",
        "for i in range(num_rows):\n",
        "  epsilon_dim = np.random.uniform(low = 1, high = 100, size=epsilon)\n",
        "  epsilon_dim = np.round(epsilon_dim, 0)\n",
        "  random_vectors.append(epsilon_dim)\n",
        "\n",
        "def DBEnc(D, key):\n",
        "\n",
        "  D_dash = []\n",
        "\n",
        "  M = key['M']\n",
        "  M_inv = np.linalg.inv(M)\n",
        "  tau = key['tau']\n",
        "  S = key['S']\n",
        "\n",
        "\n",
        "  S_size = len(S) - 1\n",
        "  # print(S_size)\n",
        "\n",
        "  # Collect S from 1 to d\n",
        "  for i in range(len(D)):\n",
        "\n",
        "    temp_pi_dash = []\n",
        "    l2_norm_sq = 0\n",
        "\n",
        "    # S-(d+1)\n",
        "    for j in range(S_size):\n",
        "      temp_pi_dash.append(S[j] - 2*D[i][j])\n",
        "\n",
        "      l2_norm_sq += D[i][j]*D[i][j]\n",
        "\n",
        "    temp_pi_dash.append(S[-1] + l2_norm_sq)\n",
        "\n",
        "    for j in range(len(tau)):\n",
        "      temp_pi_dash.append(tau[j])\n",
        "\n",
        "\n",
        "    for k in range(epsilon):\n",
        "      temp_pi_dash.append(random_vectors[i][k])\n",
        "\n",
        "    # print(temp_pi_dash)\n",
        "    permutation_order = key['pi']\n",
        "    permuted_array = [temp_pi_dash[i - 1] for i in permutation_order]\n",
        "\n",
        "    # print(\"permutaiton\", permuted_array)\n",
        "    # print(\"M_inv\", M_inv)\n",
        "\n",
        "\n",
        "    pi_dash = np.dot(permuted_array, M_inv)\n",
        "\n",
        "    # print(pi_dash)\n",
        "\n",
        "    D_dash.append(pi_dash)\n",
        "\n",
        "  return D_dash\n",
        "\n",
        "D_dash = DBEnc(D, key)\n",
        "\n",
        "# toc = time.time()\n",
        "\n",
        "# total_encription_time += toc - tic\n",
        "\n",
        "\n"
      ],
      "metadata": {
        "id": "pcusb16ojuvQ"
      },
      "execution_count": null,
      "outputs": []
    },
    {
      "cell_type": "code",
      "source": [
        "# Query Encryption\n",
        "import json\n",
        "import phe\n",
        "from phe import paillier"
      ],
      "metadata": {
        "id": "yn4TVAgr8ufh"
      },
      "execution_count": null,
      "outputs": []
    },
    {
      "cell_type": "code",
      "source": [
        "# Step1\n",
        "tic = time.time()\n",
        "\n",
        "pubkey, privkey = paillier.generate_paillier_keypair(n_length=1024)\n",
        "# print(pubkey, privkey)\n",
        "\n",
        "toc = time.time()\n",
        "total_encription_time += toc - tic"
      ],
      "metadata": {
        "id": "u0Fu9ATXCDlw"
      },
      "execution_count": null,
      "outputs": []
    },
    {
      "cell_type": "code",
      "source": [
        "tic = time.time()\n",
        "\n",
        "encrypted_pailllier = []\n",
        "for i in range(len(q)):\n",
        "  temp = q[i]*10\n",
        "  encrypted_pailllier.append(pubkey.encrypt(temp))\n",
        "\n",
        "toc = time.time()\n",
        "total_encription_time += toc - tic"
      ],
      "metadata": {
        "id": "jz8ES-c9CwkC"
      },
      "execution_count": null,
      "outputs": []
    },
    {
      "cell_type": "code",
      "source": [
        "tic = time.time()\n",
        "\n",
        "beta_q = np.random.uniform(low =1, high = 100, size = 1)\n",
        "beta_q = np.round(beta_q, 0)\n",
        "\n",
        "R_q =  np.random.uniform(low =1, high = 100, size = c)\n",
        "R_q = np.round(R_q, 0)\n",
        "\n",
        "toc = time.time()\n",
        "total_encription_time += toc - tic"
      ],
      "metadata": {
        "id": "W3Mrtu9BDrml"
      },
      "execution_count": null,
      "outputs": []
    },
    {
      "cell_type": "code",
      "source": [
        "# q_dot = pi(q, 1, R_q, O_epsilon) O_epsilon is epsilon dim zero vector\n",
        "tic = time.time()\n",
        "\n",
        "temp_array = []\n",
        "\n",
        "size = len(q) + 1 + epsilon + c\n",
        "\n",
        "\n",
        "for j in range(len(q)):\n",
        "  temp_array.append(10*q[j])\n",
        "\n",
        "temp_array.append(10)\n",
        "\n",
        "for j in range(c):\n",
        "  temp_array.append(R_q[j])\n",
        "\n",
        "for j in range(epsilon):\n",
        "  temp_array.append(0)\n",
        "\n",
        "Encrypted_temp_array = []\n",
        "\n",
        "for i in range(size):\n",
        "  Encrypted_temp_array.append(pubkey.encrypt(temp_array[i]))\n",
        "\n",
        "permutation_order = key['pi']\n",
        "\n",
        "q_dot = [Encrypted_temp_array[i - 1] for i in permutation_order]\n",
        "\n",
        "toc = time.time()\n",
        "total_encription_time += toc - tic"
      ],
      "metadata": {
        "id": "s8B-MfSQGBVc"
      },
      "execution_count": null,
      "outputs": []
    },
    {
      "cell_type": "code",
      "source": [
        "tic = time.time()\n",
        "# Computing Aq\n",
        "\n",
        "eta = d + c + epsilon + 1\n",
        "\n",
        "M = key['M']\n",
        "\n",
        "def compute_Aq(permutation_order, M, q_dot, beta_q, R_q):\n",
        "  # print(np.shape(M))\n",
        "\n",
        "  q_dot_transpose = np.transpose(q_dot)\n",
        "  # print(beta_q*M_inv[0])\n",
        "  A_q = []\n",
        "\n",
        "\n",
        "  for i in range(eta):\n",
        "    beta_q_M = 10 * beta_q * M[i]\n",
        "    dot_product = np.dot(beta_q_M , q_dot_transpose)\n",
        "\n",
        "    A_q.append(dot_product)\n",
        "\n",
        "  return A_q\n",
        "\n",
        "compute_Aq(permutation_order, M, q_dot, beta_q, R_q)\n",
        "\n",
        "toc = time.time()\n",
        "total_encription_time += toc - tic"
      ],
      "metadata": {
        "id": "xFlJNMgHU8oU"
      },
      "execution_count": null,
      "outputs": []
    },
    {
      "cell_type": "code",
      "source": [
        "# QU decrypting\n",
        "A_q = compute_Aq(permutation_order, M, q_dot, beta_q, R_q)\n",
        "q_dash_decipher = []\n",
        "for i in range(eta):\n",
        "  decipher = privkey.decrypt(A_q[i])/100\n",
        "  q_dash_decipher.append(decipher)\n",
        "\n",
        "print(q_dash_decipher)"
      ],
      "metadata": {
        "id": "SWUrHxeEmMb2",
        "colab": {
          "base_uri": "https://localhost:8080/"
        },
        "outputId": "e2b36ec9-55f0-4a21-8f23-dede766f02c4"
      },
      "execution_count": null,
      "outputs": [
        {
          "output_type": "stream",
          "name": "stdout",
          "text": [
            "[295054.4, 362060.8, 321224.0, 434465.6, 281684.8, 405075.2, 373030.4, 411694.4, 357745.6, 255729.6, 498747.2, 409228.8, 359476.8, 436288.0, 235232.0, 251544.0, 492297.6, 353472.0, 334640.0, 515747.2, 365433.6]\n"
          ]
        }
      ]
    },
    {
      "cell_type": "code",
      "source": [
        "# KNN computation\n",
        "# D_dash = DBEnc(D, key)\n",
        "# print(D_dash)\n",
        "\n",
        "# Paillier KNN\n",
        "tic = time.time()\n",
        "def KNNcom(D_dash, q_dash_decipher, K):\n",
        "  distances = []\n",
        "  for i in range(len(D_dash)):\n",
        "    distances.append([np.dot(D_dash[i],q_dash_decipher), i])\n",
        "  return distances\n",
        "  # print(\"ddash\", D_dash)\n",
        "  # print(\"qdash\" ,q_dash_decipher)\n",
        "\n",
        "distances = KNNcom(D_dash, q_dash_decipher, 10)\n",
        "print(np.shape(distances))\n",
        "\n",
        "# Sort the array based on the values in the first column (axis=0)\n",
        "sorted_array_2D = sorted(distances, key=lambda x: x[0])\n",
        "\n",
        "for i in range(10):\n",
        "  print(sorted_array_2D[i][1])\n",
        "# sorted_indices = np.argsort(distances[:, 0])\n",
        "\n",
        "# Use the sorted indices to rearrange the rows of the array\n",
        "# sorted_array_2d = distances[sorted_indices]\n",
        "\n",
        "# print(np.argmin(distances))\n",
        "# print(sorted(distances)[:10])\n",
        "\n",
        "toc = time.time()\n",
        "\n",
        "paillierKNN_time = toc -tic\n",
        "print(paillierKNN_time)"
      ],
      "metadata": {
        "colab": {
          "base_uri": "https://localhost:8080/"
        },
        "id": "DdiKAk5qhMZp",
        "outputId": "2726c277-b555-435d-ec03-0d1b037c8fce"
      },
      "execution_count": null,
      "outputs": [
        {
          "output_type": "stream",
          "name": "stdout",
          "text": [
            "(100000, 2)\n",
            "64814\n",
            "47905\n",
            "88148\n",
            "23180\n",
            "64976\n",
            "90172\n",
            "86862\n",
            "2680\n",
            "28613\n",
            "32257\n",
            "1.3108453750610352\n"
          ]
        }
      ]
    },
    {
      "cell_type": "code",
      "source": [
        "# q_dot_transpose = np.transpose(q_dot)\n",
        "# print(np.shape(q_dash_decipher))\n",
        "\n",
        "from scipy.spatial import distance\n",
        "min_dis = []\n",
        "for i in range(len(D)):\n",
        "  min_dis.append(distance.euclidean(D[i], q))\n",
        "\n",
        "# print(min_dis)\n",
        "\n",
        "print(np.argmin(min_dis))\n",
        "\n",
        "# print(distances)\n",
        "\n",
        "\n",
        "\n"
      ],
      "metadata": {
        "colab": {
          "base_uri": "https://localhost:8080/"
        },
        "id": "-VkLWFljhZc9",
        "outputId": "7abcca2b-9143-419a-acdc-c868e42b9147"
      },
      "execution_count": null,
      "outputs": [
        {
          "output_type": "stream",
          "name": "stdout",
          "text": [
            "64814\n"
          ]
        }
      ]
    },
    {
      "cell_type": "code",
      "source": [
        "# import time\n",
        "# from google.colab import drive\n",
        "\n",
        "# # Mount Google Drive\n",
        "# drive.mount('/content/drive')\n",
        "\n",
        "\n",
        "# # Record the start time\n",
        "# start_time = time.time()\n",
        "\n",
        "# # Run your notebook using the %run magic command\n",
        "# %run \"/content/drive/My Drive/Colab Notebooks/KnnComp.ipynb\"\n",
        "\n",
        "# # Record the end time\n",
        "# end_time = time.time()\n",
        "\n",
        "# # Calculate the elapsed time\n",
        "# elapsed_time = end_time - start_time\n",
        "\n",
        "# # Print the runtime\n",
        "# print(f\"Runtime: {elapsed_time} seconds\")\n",
        "\n",
        "#Plaintext\n",
        "from sklearn.neighbors import NearestNeighbors\n",
        "\n",
        "tic = time.time()\n",
        "k = 10\n",
        "query = q.reshape(1, -1)\n",
        "\n",
        "nn_model = NearestNeighbors(n_neighbors=k)\n",
        "nn_model.fit(D)\n",
        "\n",
        "distances, indices = nn_model.kneighbors(query)\n",
        "\n",
        "print(f\"{k}-Nearest Neighbors Indices:\", indices)\n",
        "\n",
        "toc = time.time()\n",
        "\n",
        "plaintext_time = toc-tic\n",
        "\n",
        "print(plaintext_time)\n"
      ],
      "metadata": {
        "colab": {
          "base_uri": "https://localhost:8080/"
        },
        "id": "I8sRktcwWOUu",
        "outputId": "b0ff7986-b9c5-41f6-d531-9a8c45d595e1"
      },
      "execution_count": null,
      "outputs": [
        {
          "output_type": "stream",
          "name": "stdout",
          "text": [
            "10-Nearest Neighbors Indices: [[64814 47905 88148 23180 64976 90172 86862  2680 28613 32257]]\n",
            "0.3786635398864746\n"
          ]
        }
      ]
    },
    {
      "cell_type": "code",
      "source": [
        "print(total_encription_time)"
      ],
      "metadata": {
        "colab": {
          "base_uri": "https://localhost:8080/"
        },
        "id": "g5VnpkvGP7Df",
        "outputId": "c8e57884-183d-4470-ea3e-f5773e252234"
      },
      "execution_count": null,
      "outputs": [
        {
          "output_type": "stream",
          "name": "stdout",
          "text": [
            "1.4487855434417725\n"
          ]
        }
      ]
    }
  ]
}