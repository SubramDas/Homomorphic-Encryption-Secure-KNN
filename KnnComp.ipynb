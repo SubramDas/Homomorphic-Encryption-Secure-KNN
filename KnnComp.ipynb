{
  "nbformat": 4,
  "nbformat_minor": 0,
  "metadata": {
    "colab": {
      "provenance": [],
      "authorship_tag": "ABX9TyPFVZfzZz2HahOkAspc5l/j",
      "include_colab_link": true
    },
    "kernelspec": {
      "name": "python3",
      "display_name": "Python 3"
    },
    "language_info": {
      "name": "python"
    }
  },
  "cells": [
    {
      "cell_type": "markdown",
      "metadata": {
        "id": "view-in-github",
        "colab_type": "text"
      },
      "source": [
        "<a href=\"https://colab.research.google.com/github/SubramDas/Homomorphic-Encryption-Secure-KNN/blob/main/KnnComp.ipynb\" target=\"_parent\"><img src=\"https://colab.research.google.com/assets/colab-badge.svg\" alt=\"Open In Colab\"/></a>"
      ]
    },
    {
      "cell_type": "code",
      "execution_count": null,
      "metadata": {
        "colab": {
          "base_uri": "https://localhost:8080/"
        },
        "id": "AuKPnyOCKrwO",
        "outputId": "fbe27dde-27be-4b99-b808-804ee3367cef"
      },
      "outputs": [
        {
          "output_type": "stream",
          "name": "stdout",
          "text": [
            "Requirement already satisfied: phe in /usr/local/lib/python3.10/dist-packages (1.5.0)\n",
            "time: 5.53 s (started: 2023-12-07 14:06:28 +00:00)\n"
          ]
        }
      ],
      "source": [
        "!pip install phe\n",
        "import numpy as np\n",
        "import time\n",
        "\n",
        "total_encription_time = 0"
      ]
    },
    {
      "cell_type": "code",
      "source": [
        "# columns = 10\n",
        "# rows = 10\n",
        "\n",
        "# D = np.random.uniform(low=1, high=100, size=(rows, columns))\n",
        "# D = np.round(D, 1)\n",
        "\n",
        "# query = np.random.uniform(low=1, high=100, size=columns)\n",
        "# query = np.round(query, 1)\n",
        "\n",
        "# print(np.shape(D))\n",
        "\n"
      ],
      "metadata": {
        "colab": {
          "base_uri": "https://localhost:8080/"
        },
        "id": "tTZYZBvIQHQN",
        "outputId": "437c1939-e6e5-4cf6-b2f7-1456e661fe8a"
      },
      "execution_count": null,
      "outputs": [
        {
          "output_type": "stream",
          "name": "stdout",
          "text": [
            "(10, 10)\n",
            "time: 1.14 ms (started: 2023-12-07 14:06:33 +00:00)\n"
          ]
        }
      ]
    },
    {
      "cell_type": "markdown",
      "source": [
        "**KEY** **GENERATION**"
      ],
      "metadata": {
        "id": "-68XZ53yqmK0"
      }
    },
    {
      "cell_type": "code",
      "source": [
        "#Key Generation\n",
        "\n",
        "def generate_key(d, c, epsilon):\n",
        "\n",
        "  #computing eta\n",
        "  eta = d + c + epsilon + 1\n",
        "\n",
        "  # Generate an base secret matrix Mbase of eta, eta\n",
        "  Mbase = np.random.uniform(low=1, high=100, size=(eta, eta))\n",
        "\n",
        "  Mbase = np.round(Mbase, 0)\n",
        "\n",
        "  # Generate a (d + 1) dimensional long term secret vector S\n",
        "  S = np.random.uniform(low=1, high=100, size=(d + 1))\n",
        "\n",
        "  S = np.round(S, 0)\n",
        "  # Generate a c-dimensional fixed vector w\n",
        "  w = np.random.uniform(low=1, high=100, size=c)\n",
        "\n",
        "  w = np.round(w, 0)\n",
        "  # Generate a permutation function π of η numbers\n",
        "  # pi = np.random.permutation(eta)\n",
        "\n",
        "  #Secret key of the encryption scheme\n",
        "\n",
        "  key = {\n",
        "      'S': S,\n",
        "      'Mbase': Mbase,\n",
        "      'w': w\n",
        "  }\n",
        "\n",
        "  return key\n"
      ],
      "metadata": {
        "id": "sTP__1_EKzbL",
        "colab": {
          "base_uri": "https://localhost:8080/"
        },
        "outputId": "360f7843-e633-4ac0-c453-3577ad83fa0d"
      },
      "execution_count": null,
      "outputs": [
        {
          "output_type": "stream",
          "name": "stdout",
          "text": [
            "time: 1.16 ms (started: 2023-12-07 14:17:35 +00:00)\n"
          ]
        }
      ]
    },
    {
      "cell_type": "markdown",
      "source": [
        "**PARAMETER** **SELECTION**"
      ],
      "metadata": {
        "id": "ksTomdqPqtRE"
      }
    },
    {
      "cell_type": "code",
      "source": [
        "# Taking parameters\n",
        "\n",
        "# d = len(D[0])\n",
        "d = 3\n",
        "c = 5\n",
        "epsilon = 5\n",
        "\n",
        "key = generate_key(d, c, epsilon)"
      ],
      "metadata": {
        "id": "A5mBzKzBLiRt",
        "colab": {
          "base_uri": "https://localhost:8080/"
        },
        "outputId": "91e34fd1-f58b-42cc-a376-9cd88fd362b5"
      },
      "execution_count": null,
      "outputs": [
        {
          "output_type": "stream",
          "name": "stdout",
          "text": [
            "time: 1.5 ms (started: 2023-12-07 14:17:45 +00:00)\n"
          ]
        }
      ]
    },
    {
      "cell_type": "markdown",
      "source": [
        "**DATA** **ENCRYPTION**"
      ],
      "metadata": {
        "id": "_k9YbBXcqyaW"
      }
    },
    {
      "cell_type": "code",
      "source": [
        "\n",
        "# Data Encryption\n",
        "# D = the private database of DO consisting of m points\n",
        "# D = {p1, p2, ... pm} where p1 = {pi1, pi2,... pid}\n",
        "# ||pi|| = euclidean norm\n",
        "# tic = time.time()\n",
        "\n",
        "p1 = [10, 2.7, 5.3]\n",
        "p2 = [5.3, 8.6, 2.5]\n",
        "p3 = [1.3, 5.6, 8.5]\n",
        "\n",
        "# # database D of n vectors with d dimensions ( n=1, d=2)\n",
        "# # (Data Owner DO )\n",
        "D = [p1, p2, p3]\n",
        "\n",
        "# D = np.random.uniform(low = 1, high = 10, size=(2,2))\n",
        "\n",
        "epsilon_dim = np.random.uniform(low = 1, high = 100, size=epsilon)\n",
        "epsilon_dim = np.round(epsilon_dim, 0)\n",
        "\n",
        "# ephemeral_secret_vector of length epsilon\n",
        "z = epsilon_dim\n",
        "\n",
        "def DataEnc(D, key):\n",
        "\n",
        "  D_dash = []\n",
        "\n",
        "  Mbase = key['Mbase']\n",
        "  w = key['w']\n",
        "  S = key['S']\n",
        "\n",
        "\n",
        "  S_size = len(S) - 1\n",
        "\n",
        "  # Collect S from 1 to d\n",
        "  for i in range(len(D)):\n",
        "    temp_pi_dash = []\n",
        "    l2_norm_sq = 0\n",
        "\n",
        "    # S till d\n",
        "    for j in range(S_size):\n",
        "      temp_pi_dash.append(S[j] - 2*D[i][j])\n",
        "      l2_norm_sq += D[i][j]*D[i][j]\n",
        "\n",
        "    temp_pi_dash.append(S[-1] + l2_norm_sq)\n",
        "\n",
        "    for j in range(len(w)):\n",
        "      temp_pi_dash.append(w[j])\n",
        "\n",
        "\n",
        "    for k in range(epsilon):\n",
        "      temp_pi_dash.append(z[k])\n",
        "\n",
        "    # print(temp_pi_dash)\n",
        "    M_inv = np.linalg.inv(Mbase)\n",
        "    pi_dash = np.dot(temp_pi_dash, M_inv)\n",
        "\n",
        "    D_dash.append(pi_dash)\n",
        "\n",
        "  return D_dash\n",
        "\n",
        "DataEnc = DataEnc(D, key)\n",
        "\n",
        "# print(DataEnc)\n",
        "\n",
        "# toc = time.time()\n",
        "# total_encription_time += toc - tic"
      ],
      "metadata": {
        "colab": {
          "base_uri": "https://localhost:8080/"
        },
        "id": "PFpfu6JQLajO",
        "outputId": "e60b02ed-09c4-47ec-dc11-98571e46c0b4"
      },
      "execution_count": null,
      "outputs": [
        {
          "output_type": "stream",
          "name": "stdout",
          "text": [
            "time: 3.22 ms (started: 2023-12-07 14:17:48 +00:00)\n"
          ]
        }
      ]
    },
    {
      "cell_type": "code",
      "source": [
        "# tic = time.time()\n",
        "\n",
        "def euclidean_norm(vector):\n",
        "    return np.linalg.norm(vector)\n",
        "\n",
        "norms = [euclidean_norm(vector) for vector in D]\n",
        "\n",
        "# print(D, norms)\n",
        "max_norm = max(norms)\n",
        "\n",
        "# toc = time.time()\n",
        "# total_encription_time += toc - tic\n",
        "# print(total_encription_time)"
      ],
      "metadata": {
        "colab": {
          "base_uri": "https://localhost:8080/"
        },
        "id": "3U3MgK0rO7-T",
        "outputId": "aafbc640-aaaf-4efa-b92f-c100396270a3"
      },
      "execution_count": null,
      "outputs": [
        {
          "output_type": "stream",
          "name": "stdout",
          "text": [
            "time: 933 µs (started: 2023-12-07 14:17:54 +00:00)\n"
          ]
        }
      ]
    },
    {
      "cell_type": "markdown",
      "source": [
        "**QUERY ENCRYPTION (STEP 1)**"
      ],
      "metadata": {
        "id": "SllImkrwrEf6"
      }
    },
    {
      "cell_type": "code",
      "source": [
        "tic = time.time()\n",
        "# Query Encription\n",
        "# Step1 performed by QU\n",
        "\n",
        "query = [2.5, 3.1, 1.6]\n",
        "\n",
        "# diagonal matrix Nd×d of real numbers\n",
        "temp_values = np.random.uniform(low=1, high=100, size=d)\n",
        "temp_values = np.round(temp_values, 0)\n",
        "\n",
        "N = np.diag(temp_values)\n",
        "\n",
        "# β1 is an encryption constant and is a real number\n",
        "beta1 = np.round(100*np.random.rand())\n",
        "\n",
        "\n",
        "print(beta1)\n",
        "\n",
        "encrypted_query = beta1 * np.dot(query, N)\n",
        "\n",
        "# print(encrypted_query)\n",
        "\n",
        "toc = time.time()\n",
        "total_encription_time += toc - tic\n",
        "print(total_encription_time)\n"
      ],
      "metadata": {
        "colab": {
          "base_uri": "https://localhost:8080/"
        },
        "id": "hw89WUAfPRF6",
        "outputId": "0a75d88e-bbd2-4c48-f59e-318a78e21098"
      },
      "execution_count": null,
      "outputs": [
        {
          "output_type": "stream",
          "name": "stdout",
          "text": [
            "7.0\n",
            "0.010700702667236328\n",
            "time: 1.39 ms (started: 2023-12-07 14:18:19 +00:00)\n"
          ]
        }
      ]
    },
    {
      "cell_type": "markdown",
      "source": [
        "**QUERY ENCRYPTION (STEP 2)**"
      ],
      "metadata": {
        "id": "EPLl-dcorLO8"
      }
    },
    {
      "cell_type": "code",
      "source": [
        "tic = time.time()\n",
        "# Step2 query encryption is performed by the DO\n",
        "\n",
        "qmax = max(encrypted_query)\n",
        "# print(qmax)\n",
        "\n",
        "eta = d + c + epsilon + 1\n",
        "\n",
        "# temporary secret matrix Mt (η×η)\n",
        "Mt = np.random.uniform(low = qmax+1, high=qmax+100, size=(eta, eta))\n",
        "Mt = np.round(Mt, 0)\n",
        "\n",
        "Mt_diag = np.random.uniform(low = max_norm+1, high = max_norm+100, size=eta)\n",
        "Mt_diag = np.round(Mt_diag, 0)\n",
        "\n",
        "for i in range(eta):\n",
        "  Mt[i][i] = Mt_diag[i]\n",
        "\n",
        "Msec = np.dot(Mt, key['Mbase'])\n",
        "\n",
        "toc = time.time()\n",
        "total_encription_time += toc - tic\n",
        "print(total_encription_time)"
      ],
      "metadata": {
        "colab": {
          "base_uri": "https://localhost:8080/"
        },
        "id": "zwlx63kFRVah",
        "outputId": "a0c9b3ae-451a-4a73-f58b-4b08aa1cebfc"
      },
      "execution_count": null,
      "outputs": [
        {
          "output_type": "stream",
          "name": "stdout",
          "text": [
            "0.011528491973876953\n",
            "time: 3.4 ms (started: 2023-12-07 14:18:24 +00:00)\n"
          ]
        }
      ]
    },
    {
      "cell_type": "code",
      "source": [
        "tic = time.time()\n",
        "\n",
        "q_dash = []\n",
        "\n",
        "for i in range(len(encrypted_query)):\n",
        "  q_dash.append(encrypted_query[i])\n",
        "\n",
        "q_dash.append(1)\n",
        "\n",
        "x = np.random.uniform(low = 1, high = 100, size=c)\n",
        "x = np.round(x, 0)\n",
        "\n",
        "for i in range(c):\n",
        "  q_dash.append(x[i])\n",
        "\n",
        "for i in range(epsilon):\n",
        "  q_dash.append(0)\n",
        "\n",
        "q_nn = np.diag(q_dash)\n",
        "\n",
        "# print(q_nn)\n",
        "\n",
        "E_matrix = np.random.uniform(low = qmax+1, high=qmax+100, size=(eta, eta))\n",
        "E_matrix = np.round(E_matrix, 0)\n",
        "\n",
        "beta2 = np.round(100*np.random.rand())\n",
        "\n",
        "q_hat = (beta2 * (np.dot(Msec, q_nn) + E_matrix))\n",
        "\n",
        "toc = time.time()\n",
        "total_encription_time += toc - tic\n",
        "print(total_encription_time)"
      ],
      "metadata": {
        "colab": {
          "base_uri": "https://localhost:8080/"
        },
        "id": "QgO3qtjO2LPB",
        "outputId": "12884efd-9732-4632-f352-e48176bc731a"
      },
      "execution_count": null,
      "outputs": [
        {
          "output_type": "stream",
          "name": "stdout",
          "text": [
            "0.01370549201965332\n",
            "time: 8.85 ms (started: 2023-12-07 14:18:55 +00:00)\n"
          ]
        }
      ]
    },
    {
      "cell_type": "code",
      "source": [
        "# tic = time.time()\n",
        "# CSP work\n",
        "pi_doubledash = []\n",
        "Mt_inv = np.linalg.inv(Mt)\n",
        "for i in range(len(DataEnc)):\n",
        "  pi_doubledash.append(np.dot(DataEnc[i], Mt_inv))\n",
        "\n",
        "# toc = time.time()\n",
        "# total_encription_time += toc - tic\n",
        "# print(total_encription_time)"
      ],
      "metadata": {
        "id": "hbG-DYrHUDB7",
        "colab": {
          "base_uri": "https://localhost:8080/"
        },
        "outputId": "cda8771a-21fb-48f2-a6fc-f03b70f8b6e1"
      },
      "execution_count": null,
      "outputs": [
        {
          "output_type": "stream",
          "name": "stdout",
          "text": [
            "time: 5.57 ms (started: 2023-12-07 14:19:03 +00:00)\n"
          ]
        }
      ]
    },
    {
      "cell_type": "markdown",
      "source": [
        "**QUERY ENCRYPTION (STEP 3)**"
      ],
      "metadata": {
        "id": "BdHVp2tCrSLF"
      }
    },
    {
      "cell_type": "code",
      "source": [
        "tic = time.time()\n",
        "# Step3\n",
        "\n",
        "N_dash_temp_values = []\n",
        "\n",
        "j=0\n",
        "while j<d:\n",
        "  N_dash_temp_values.append(temp_values[j]);\n",
        "  j+=1\n",
        "\n",
        "for i in range(eta-d):\n",
        "  N_dash_temp_values.append(1)\n",
        "\n",
        "N_dash = np.diag(N_dash_temp_values)\n",
        "\n",
        "N_dash_inv = np.linalg.inv(N_dash)\n",
        "\n",
        "q_tilda_enc = np.dot(q_hat, N_dash_inv)\n",
        "\n",
        "# print(q_tilda_enc)\n",
        "\n",
        "q_doubledash = []\n",
        "\n",
        "for i in range(len(query)):\n",
        "  q_doubledash.append(beta1*query[i])\n",
        "\n",
        "q_doubledash.append(1)\n",
        "\n",
        "for i in range(len(x)):\n",
        "  q_doubledash.append(x[i])\n",
        "\n",
        "for i in range(epsilon):\n",
        "  q_doubledash.append(0)\n",
        "\n",
        "q_doubledash = np.diag(q_doubledash)\n",
        "q_dd = []\n",
        "\n",
        "for i in range((eta)):\n",
        "  q_dd.append(q_doubledash[i][i])\n",
        "\n",
        "# temp = beta2 * (np.dot(Msec, q_doubledash) + np.dot(E_matrix, N_dash_inv))\n",
        "\n",
        "# # print(temp == q_tilda_enc)\n",
        "# q_tilda_enc = temp\n",
        "\n",
        "err = []\n",
        "dot_product = np.dot(E_matrix, N_dash_inv)\n",
        "sum=0\n",
        "for i in range(len(dot_product)):\n",
        "  for j in range(len(dot_product[0])):\n",
        "    sum = sum + dot_product[i][j]\n",
        "  err.append(sum)\n",
        "\n",
        "q_vec = []\n",
        "\n",
        "for j in range(eta):\n",
        "  sum_q_tilda_enc = 0\n",
        "  for i in range(eta):\n",
        "    sum_q_tilda_enc += q_tilda_enc[j][i]\n",
        "\n",
        "  q_vec.append(sum_q_tilda_enc)\n",
        "\n",
        "# print(q_vec)\n",
        "q_vec = beta2 * (np.dot(Msec, q_dd) + err)\n",
        "\n",
        "toc = time.time()\n",
        "total_encription_time += toc - tic\n",
        "print(total_encription_time)"
      ],
      "metadata": {
        "colab": {
          "base_uri": "https://localhost:8080/"
        },
        "id": "1XkC-gq9Y7AA",
        "outputId": "fc2052b5-b1b1-452d-d629-fc3d090313cc"
      },
      "execution_count": null,
      "outputs": [
        {
          "output_type": "stream",
          "name": "stdout",
          "text": [
            "0.01589345932006836\n",
            "time: 8.06 ms (started: 2023-12-07 14:21:49 +00:00)\n"
          ]
        }
      ]
    },
    {
      "cell_type": "markdown",
      "source": [
        "**DECRYPTION ALGORITHM**"
      ],
      "metadata": {
        "id": "vlDkXR6trX2Y"
      }
    },
    {
      "cell_type": "code",
      "source": [
        "# Decryption\n",
        "p_tilda_i = []\n",
        "for i in range(len(DataEnc)):\n",
        "  p_tilda_i.append(np.dot(DataEnc[i], key['Mbase']))\n",
        "\n",
        "\n",
        "data_tuples = []\n",
        "\n",
        "S = key['S']\n",
        "\n",
        "for i in range(len(p_tilda_i)):\n",
        "  row = []\n",
        "  for j in range(d):\n",
        "    value = np.round((S[j] - p_tilda_i[i][j])/2, 2)\n",
        "    row.append(value)\n",
        "\n",
        "  data_tuples.append(row)\n",
        "print(data_tuples)\n"
      ],
      "metadata": {
        "colab": {
          "base_uri": "https://localhost:8080/"
        },
        "id": "WTb8v-Qwc5r6",
        "outputId": "1be711c5-8125-462b-ef26-8eba67266142"
      },
      "execution_count": null,
      "outputs": [
        {
          "output_type": "stream",
          "name": "stdout",
          "text": [
            "[[10.0, 2.7, 5.3], [5.3, 8.6, 2.5], [1.3, 5.6, 8.5]]\n",
            "time: 1.99 ms (started: 2023-12-07 14:21:54 +00:00)\n"
          ]
        }
      ]
    },
    {
      "cell_type": "markdown",
      "source": [
        "**KNN COMPUTATION**"
      ],
      "metadata": {
        "id": "l94C9aUurczX"
      }
    },
    {
      "cell_type": "code",
      "source": [
        "# KNN computation\n",
        "# %%timeit\n",
        "\n",
        "# knn = []\n",
        "# print(np.shape(pi_doubledash))\n",
        "# for i in range(len(p_tilda_i)):\n",
        "\n",
        "#   erri = np.dot(pi_doubledash[i], err)\n",
        "#   temp = beta2 * (np.dot(p_tilda_i, q_dd) + erri)\n",
        "#   knn.append(beta2 * (np.dot(p_tilda_i, q_dd) + erri))\n",
        "\n",
        "\n",
        "\n",
        "# tic = time.time()\n",
        "knn = []\n",
        "for i in range(len(pi_doubledash)):\n",
        "  knn.append([(np.dot(pi_doubledash[i], q_vec)), i])\n",
        "\n",
        "print(knn)\n",
        "sorted_array_2D = sorted(knn, key=lambda x: x[0])\n",
        "\n",
        "for i in range(3):\n",
        "  print(sorted_array_2D[i][1])\n",
        "# print(knn)\n",
        "toc = time.time()\n",
        "\n",
        "# knn_aspe = toc -tic\n",
        "# print(knn_aspe)"
      ],
      "metadata": {
        "colab": {
          "base_uri": "https://localhost:8080/"
        },
        "id": "VxLL1SdnfAJJ",
        "outputId": "24e7f225-a234-401a-febe-4f14af1d1b78"
      },
      "execution_count": null,
      "outputs": [
        {
          "output_type": "stream",
          "name": "stdout",
          "text": [
            "[[144102.69279631227, 0], [143517.4079272449, 1], [145438.89490067307, 2]]\n",
            "1\n",
            "0\n",
            "2\n",
            "[[144102.69279631227, 0], [143517.4079272449, 1], [145438.89490067307, 2]]\n",
            "time: 3.74 ms (started: 2023-12-07 14:22:59 +00:00)\n"
          ]
        }
      ]
    },
    {
      "cell_type": "markdown",
      "source": [
        "**MATCHES WITH THE NEAREST NEIGHBOUR BY EUCLIDEAN METHOD**"
      ],
      "metadata": {
        "id": "P4SNXRBzrfgX"
      }
    },
    {
      "cell_type": "code",
      "source": [
        "from scipy.spatial import distance\n",
        "min_dis = []\n",
        "for i in range(len(D)):\n",
        "  min_dis.append(distance.euclidean(D[i], query))\n",
        "\n",
        "# print(min_dis)\n",
        "\n",
        "print(np.argmin(min_dis))\n",
        "print(np.argmin(knn))"
      ],
      "metadata": {
        "colab": {
          "base_uri": "https://localhost:8080/"
        },
        "id": "HLPbt4Th2wMo",
        "outputId": "1f5a90e8-4a16-466c-c5e0-81f4a9fd2ede"
      },
      "execution_count": null,
      "outputs": [
        {
          "output_type": "stream",
          "name": "stdout",
          "text": [
            "1\n",
            "1\n",
            "time: 4.59 ms (started: 2023-12-07 14:23:18 +00:00)\n"
          ]
        }
      ]
    },
    {
      "cell_type": "code",
      "source": [
        "print(total_encription_time)\n",
        "# q_doubledash = []\n",
        "\n",
        "# for i in range(len(query)):\n",
        "#   q_doubledash.append(beta2*query[i])\n",
        "\n",
        "# q_doubledash.append(1)\n",
        "\n",
        "# for i in range(len(x)):\n",
        "#   q_doubledash.append(x[i])\n",
        "\n",
        "# for i in range(epsilon):\n",
        "#   q_doubledash.append(0)\n",
        "\n",
        "# q_doubledash = np.transpose(q_doubledash)\n",
        "\n",
        "# err = []\n",
        "# dot_product = np.dot(E_matrix, N_dash_inv)\n",
        "\n",
        "# sum=0\n",
        "\n",
        "# for i in range(len(dot_product)):\n",
        "#   for j in range(len(dot_product[0])):\n",
        "#     sum = sum + dot_product[i][j]\n",
        "#   err.append(sum)\n",
        "# # print(err)\n",
        "\n",
        "# for i in range(len(p_tilda_i)-1):\n",
        "\n",
        "#   erri = np.dot(pi_doubledash[i], err)\n",
        "#   erri1 = np.dot(pi_doubledash[i+1], err)\n",
        "\n",
        "#   if ( np.dot((p_tilda_i[i] - p_tilda_i[i+1]), q_doubledash) > (erri - erri1) ):\n",
        "#     print(\"YES\")\n",
        "#   else:\n",
        "#     print(\"NO\")\n"
      ],
      "metadata": {
        "id": "2A-xQX2Q9Ne3"
      },
      "execution_count": null,
      "outputs": []
    },
    {
      "cell_type": "code",
      "source": [
        "\n",
        "# import time\n",
        "# from google.colab import drive\n",
        "\n",
        "# # Mount Google Drive\n",
        "# drive.mount('/content/drive')\n",
        "\n",
        "\n",
        "# # Record the start time\n",
        "# start_time = time.time()\n",
        "\n",
        "# # Run your notebook using the %run magic command\n",
        "# %run \"/content/drive/My Drive/Colab Notebooks/Paillier.ipynb\"\n",
        "\n",
        "# # Record the end time\n",
        "# end_time = time.time()\n",
        "\n",
        "# # Calculate the elapsed time\n",
        "# elapsed_time = end_time - start_time\n",
        "\n",
        "# # Print the runtime\n",
        "# print(f\"Runtime: {elapsed_time} seconds\")\n"
      ],
      "metadata": {
        "id": "2nLmsVQXYHAM"
      },
      "execution_count": null,
      "outputs": []
    }
  ]
}